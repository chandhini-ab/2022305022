{
  "nbformat": 4,
  "nbformat_minor": 0,
  "metadata": {
    "colab": {
      "provenance": [],
      "authorship_tag": "ABX9TyPjF1YotrHwm7QLT9Z1ZWj4",
      "include_colab_link": true
    },
    "kernelspec": {
      "name": "python3",
      "display_name": "Python 3"
    },
    "language_info": {
      "name": "python"
    }
  },
  "cells": [
    {
      "cell_type": "markdown",
      "metadata": {
        "id": "view-in-github",
        "colab_type": "text"
      },
      "source": [
        "<a href=\"https://colab.research.google.com/github/chandhini-ab/2022305022/blob/main/spam%20detection.ipynb\" target=\"_parent\"><img src=\"https://colab.research.google.com/assets/colab-badge.svg\" alt=\"Open In Colab\"/></a>"
      ]
    },
    {
      "cell_type": "code",
      "execution_count": 1,
      "metadata": {
        "colab": {
          "base_uri": "https://localhost:8080/"
        },
        "id": "enaY1lP66R2O",
        "outputId": "8025f803-e796-40c9-8f64-74d5b183b33a"
      },
      "outputs": [
        {
          "output_type": "stream",
          "name": "stdout",
          "text": [
            "Model Accuracy: 1.0\n",
            "Message: Congratulations! You have won a $1000 gift card. Claim it now!\n",
            "Prediction: Spam\n"
          ]
        }
      ],
      "source": [
        "import pandas as pd\n",
        "import re\n",
        "import string\n",
        "from sklearn.feature_extraction.text import TfidfVectorizer\n",
        "from sklearn.model_selection import train_test_split\n",
        "from sklearn.naive_bayes import MultinomialNB\n",
        "from sklearn.pipeline import make_pipeline\n",
        "from sklearn.metrics import accuracy_score\n",
        "\n",
        "# Sample spam dataset (You can use a larger dataset like SMS Spam Collection)\n",
        "data = {\n",
        "    \"message\": [\n",
        "        \"Congratulations! You've won a free iPhone. Claim now.\",\n",
        "        \"Hey, are we still meeting tomorrow?\",\n",
        "        \"You have been selected for a free vacation. Call now!\",\n",
        "        \"Let's catch up for lunch.\",\n",
        "        \"URGENT! Your account has been compromised. Click the link to verify.\",\n",
        "        \"Can you send me the notes from class?\",\n",
        "    ],\n",
        "    \"label\": [\"spam\", \"ham\", \"spam\", \"ham\", \"spam\", \"ham\"],\n",
        "}\n",
        "\n",
        "# Convert to DataFrame\n",
        "df = pd.DataFrame(data)\n",
        "\n",
        "# Convert labels to binary (spam=1, ham=0)\n",
        "df[\"label\"] = df[\"label\"].map({\"spam\": 1, \"ham\": 0})\n",
        "\n",
        "# Split dataset into training and testing sets\n",
        "X_train, X_test, y_train, y_test = train_test_split(df[\"message\"], df[\"label\"], test_size=0.2, random_state=42)\n",
        "\n",
        "# Create a text classification pipeline\n",
        "model = make_pipeline(TfidfVectorizer(), MultinomialNB())\n",
        "\n",
        "# Train the model\n",
        "model.fit(X_train, y_train)\n",
        "\n",
        "# Predict on the test set\n",
        "y_pred = model.predict(X_test)\n",
        "\n",
        "# Print accuracy\n",
        "print(\"Model Accuracy:\", accuracy_score(y_test, y_pred))\n",
        "\n",
        "# Function to detect spam\n",
        "def detect_spam(message):\n",
        "    prediction = model.predict([message])\n",
        "    return \"Spam\" if prediction[0] == 1 else \"Not Spam\"\n",
        "\n",
        "# Example usage\n",
        "test_message = \"Congratulations! You have won a $1000 gift card. Claim it now!\"\n",
        "print(\"Message:\", test_message)\n",
        "print(\"Prediction:\", detect_spam(test_message))"
      ]
    }
  ]
}